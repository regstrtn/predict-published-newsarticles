{
 "cells": [
  {
   "cell_type": "code",
   "execution_count": 1,
   "metadata": {},
   "outputs": [],
   "source": [
    "import os\n",
    "import sys\n",
    "import pickle\n",
    "import numpy as np\n",
    "from datetime import datetime"
   ]
  },
  {
   "cell_type": "code",
   "execution_count": 4,
   "metadata": {},
   "outputs": [
    {
     "name": "stdout",
     "output_type": "stream",
     "text": [
      "['FeatureInValueForm6MonthTrain1.npy']\n"
     ]
    }
   ],
   "source": [
    "featureinvalueformdir = '../FeatureInValueForm/'\n",
    "featureintextformdir = '../FeatureInTextFormSorted/'\n",
    "featureintextformdirsorted = '../FeatureInTextFormSorted/'\n",
    "featureinvaluefiles = os.listdir(featureinvalueformdir)\n",
    "#featureintextsortedfiles = os.listdir(featureintextformdir)\n",
    "#featureintextfiles = os.listdir(featureintextformdir)\n",
    "print(featureinvaluefiles)\n",
    "#print(featureintextfiles)"
   ]
  },
  {
   "cell_type": "code",
   "execution_count": 5,
   "metadata": {},
   "outputs": [],
   "source": [
    "#featureinvalueformwithpublishdateordered = np.load(featureinvalueformdir+featureinvaluefiles[4])\n",
    "#featureinvalueformwithpublishdate = np.load(featureinvalueformdir+featureinvaluefiles[0])\n",
    "#featureinvalueformwithrelatedarticle = np.load(featureinvalueformdir+featureinvaluefiles[1])\n",
    "#featureintextformsortedordered = np.load(featureintextformdirsorted+featureintextsortedfiles[1])\n",
    "#featureintextformsorted = np.load(featureintextformdirsorted+featureintextsortedfiles[0])\n",
    "\n",
    "#featureinvalueform6month = np.load(featureinvalueformdir+featureinvaluefiles[-2])\n",
    "featureinvalueform6month1 = np.load(featureinvalueformdir+featureinvaluefiles[0])\n",
    "\n",
    "#featureintextform = np.load(featureintextformdir+featureintextfiles[0])"
   ]
  },
  {
   "cell_type": "code",
   "execution_count": 24,
   "metadata": {},
   "outputs": [
    {
     "data": {
      "text/plain": [
       "['2015-07-07',\n",
       " '2015-07-07',\n",
       " '2015-07-07',\n",
       " '2015-07-07',\n",
       " '2015-07-07',\n",
       " '2015-07-07',\n",
       " '2015-07-07',\n",
       " '2015-07-08',\n",
       " '2015-07-08',\n",
       " '2015-07-08']"
      ]
     },
     "execution_count": 24,
     "metadata": {},
     "output_type": "execute_result"
    }
   ],
   "source": [
    "[x['dateList'] for x in featureinvalueformwithpublishdate[0:10]]"
   ]
  },
  {
   "cell_type": "code",
   "execution_count": 8,
   "metadata": {},
   "outputs": [
    {
     "data": {
      "text/plain": [
       "{'abstract': 1,\n",
       " 'authorList': 1,\n",
       " 'dateList': '2015-07-01',\n",
       " 'numberOfWords': '583',\n",
       " 'output': 0,\n",
       " 'productionOffice': 0,\n",
       " 'tagList': 1,\n",
       " 'timestamp': '1435724540.0',\n",
       " 'tonetype': 0,\n",
       " 'topics': 1,\n",
       " 'url': 'https://www.theguardian.com/society/2015/jul/01/prison-staffing-shortages-young-adult-suicides-lord-harris'}"
      ]
     },
     "execution_count": 8,
     "metadata": {},
     "output_type": "execute_result"
    }
   ],
   "source": [
    "featureinvalueform6month1[181]"
   ]
  },
  {
   "cell_type": "code",
   "execution_count": 4,
   "metadata": {},
   "outputs": [
    {
     "data": {
      "text/plain": [
       "{'abstract': 'Three Securitas employees are shown on video involved in confrontation with 15-year-old who had been evicted with a group of friends',\n",
       " 'authorList': 'Jon Swaine',\n",
       " 'dateList': '2015-07-01',\n",
       " 'numberOfWords': '471',\n",
       " 'output': '0',\n",
       " 'productionOffice': 'AUS',\n",
       " 'tagList': 'Georgia&US news',\n",
       " 'timestamp': '1435775134.0',\n",
       " 'tonetype': 'News',\n",
       " 'topics': 'us-news',\n",
       " 'url': 'https://www.theguardian.com/us-news/2015/jul/02/georgia-family-seek-arrest-of-stonecrest-mall-guards-for-punching-boy'}"
      ]
     },
     "execution_count": 4,
     "metadata": {},
     "output_type": "execute_result"
    }
   ],
   "source": [
    "featureintextformsorted[0]"
   ]
  },
  {
   "cell_type": "code",
   "execution_count": 6,
   "metadata": {},
   "outputs": [
    {
     "name": "stdout",
     "output_type": "stream",
     "text": [
      "(96600,)\n"
     ]
    }
   ],
   "source": [
    "#print(featureinvalueform6month.shape)\n",
    "print(featureinvalueform6month1.shape)"
   ]
  },
  {
   "cell_type": "code",
   "execution_count": null,
   "metadata": {},
   "outputs": [],
   "source": []
  }
 ],
 "metadata": {
  "kernelspec": {
   "display_name": "Python 2",
   "language": "python",
   "name": "python2"
  },
  "language_info": {
   "codemirror_mode": {
    "name": "ipython",
    "version": 2
   },
   "file_extension": ".py",
   "mimetype": "text/x-python",
   "name": "python",
   "nbconvert_exporter": "python",
   "pygments_lexer": "ipython2",
   "version": "2.7.12"
  }
 },
 "nbformat": 4,
 "nbformat_minor": 2
}
